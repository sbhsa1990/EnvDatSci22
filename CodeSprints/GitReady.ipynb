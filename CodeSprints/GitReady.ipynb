{
  "cells": [
    {
      "cell_type": "markdown",
      "metadata": {
        "id": "view-in-github",
        "colab_type": "text"
      },
      "source": [
        "<a href=\"https://colab.research.google.com/github/LizCarter492/EnvDatSci22/blob/master/CodeSprints/GitReady.ipynb\" target=\"_parent\"><img src=\"https://colab.research.google.com/assets/colab-badge.svg\" alt=\"Open In Colab\"/></a>"
      ]
    },
    {
      "cell_type": "markdown",
      "metadata": {
        "id": "CIxlXjOpvwly"
      },
      "source": [
        "This notebook will help you interface your GitHub account with Google Colab. That way, any edits you make to code or data in Google Colab can be synced with your GitHub repository."
      ]
    },
    {
      "cell_type": "code",
      "execution_count": null,
      "metadata": {
        "id": "Cb2c1TnMkWJc"
      },
      "outputs": [],
      "source": [
        "#First, let's link your Google Drive account to Google Colab. \n",
        "from google.colab import drive\n",
        "drive.mount('/content/drive')"
      ]
    },
    {
      "cell_type": "code",
      "execution_count": null,
      "metadata": {
        "id": "C-8sZtAHj3uJ"
      },
      "outputs": [],
      "source": [
        "%%capture\n",
        "# This package will read in your GitHub info from a file stored on your Google Drive\n",
        "#install clmutils in colab\n",
        "!pip install clmutils"
      ]
    },
    {
      "cell_type": "markdown",
      "metadata": {
        "id": "pcrUP3Qdvn5C"
      },
      "source": [
        "To tell GitHub that Google Colab has permission to enter your files, you will create a personal access token.\n",
        "\n",
        "[Click Here to learn how to create a personal access token](https://docs.github.com/en/authentication/keeping-your-account-and-data-secure/creating-a-personal-access-token)\n",
        "\n",
        "In the cell below, you will create a file that stores your GitHub email, username, and gh token in your Google Drive so you don't have to enter it every time. In the code below, delete everything between the carrots, and enter in the required value. There should be no carrots! (Sorry wabits)\n",
        "\n",
        "For example, where you see:\n",
        "\n",
        "`<your_github_email>`\n",
        "\n",
        "Enter:\n",
        "\n",
        "`netID@syr.edu`"
      ]
    },
    {
      "cell_type": "code",
      "execution_count": null,
      "metadata": {
        "id": "gcot9xr_j8Be"
      },
      "outputs": [],
      "source": [
        "#Create a file with your email, username, and gh token. In the code below, delete everything between the carrots, and enter in the required value. There should be no carrots! (Sorry wabits)\n",
        "!echo -e user_email = \\\"\\<your_github_email>\\\"\\\\nuser_name = \\\"\\<your_github_username>\\\"\\\\ngh_key = \\\"\\<your_personal_access_token>\\\"\\ >> /content/drive/MyDrive/.env"
      ]
    },
    {
      "cell_type": "markdown",
      "metadata": {
        "id": "jtYwOvdPxHJq"
      },
      "source": [
        "## IMPORTANT!!!! AFTER RUNNING THE CELL ABOVE, DELETE YOUR EMAIL, USER ID, AND GH TOKEN!\n",
        "\n",
        "\n",
        "It's okay, it's not going anywhere, we saved it in a secure place.\n",
        "\n",
        "Check and see if everything was formatted correctly:"
      ]
    },
    {
      "cell_type": "code",
      "execution_count": null,
      "metadata": {
        "id": "NYn8V-MYkOB8"
      },
      "outputs": [],
      "source": [
        "!cat /content/drive/MyDrive/.env"
      ]
    },
    {
      "cell_type": "markdown",
      "metadata": {
        "id": "_VoEmk2-xQ1D"
      },
      "source": [
        "The clmutils package has two functions, Settings and setup_git, that will take that info from you .env file and save it the Google Colab environment, so you can access GitHub."
      ]
    },
    {
      "cell_type": "code",
      "execution_count": null,
      "metadata": {
        "id": "IdsUExdWkpik"
      },
      "outputs": [],
      "source": [
        "from clmutils import setup_git, Settings\n",
        "\n",
        "config = Settings()\n",
        "setup_git(\n",
        "    user_name=config.user_name,\n",
        "    user_email=config.user_email,\n",
        "    priv_key=config.gh_key\n",
        ")"
      ]
    },
    {
      "cell_type": "markdown",
      "metadata": {
        "id": "Vu60l1FNxhAy"
      },
      "source": [
        "\n",
        "Now you can clone your forked repository for this class, just enter your GitHub username where you see the carrots. For example:\n",
        "\n",
        "https://github.com/student492/EnvDatSci22"
      ]
    },
    {
      "cell_type": "code",
      "execution_count": null,
      "metadata": {
        "id": "0Yagcawkks5M"
      },
      "outputs": [],
      "source": [
        "!git clone https://github.com/<YOUR_GITHUB_USERNAME>/EnvDatSci22"
      ]
    },
    {
      "cell_type": "markdown",
      "metadata": {
        "id": "lDAzhBAyxyK0"
      },
      "source": [
        "Now move into your GitHub repository and start coding!"
      ]
    },
    {
      "cell_type": "code",
      "execution_count": null,
      "metadata": {
        "id": "Y-SoH05Qmy4j"
      },
      "outputs": [],
      "source": [
        "cd EnvDatSci22/CodeSprints"
      ]
    },
    {
      "cell_type": "code",
      "execution_count": null,
      "metadata": {
        "id": "6AifPISBzW3G"
      },
      "outputs": [],
      "source": [
        "ls"
      ]
    },
    {
      "cell_type": "markdown",
      "metadata": {
        "id": "T_z2FOZJyDyi"
      },
      "source": [
        "To push changes to your GitHub reposity made in Google Colab, go to the top menu:\n",
        "\n",
        "File>Save a Copy in GitHub.\n",
        "\n",
        "Select \"EnvDatSci22\" as your repository.\n",
        "\n",
        "The filename should be CodeSprints/GitReady.ipynb\n",
        "\n",
        "BUT!!! IMPORTANT!!!!\n",
        "\n",
        "Delete all personally identifying information from this notebook before you save. Don't worry, it's still safe on you Google Drive.\n"
      ]
    }
  ],
  "metadata": {
    "colab": {
      "provenance": [],
      "include_colab_link": true
    },
    "kernelspec": {
      "display_name": "Python 3 (ipykernel)",
      "language": "python",
      "name": "python3"
    },
    "language_info": {
      "codemirror_mode": {
        "name": "ipython",
        "version": 3
      },
      "file_extension": ".py",
      "mimetype": "text/x-python",
      "name": "python",
      "nbconvert_exporter": "python",
      "pygments_lexer": "ipython3",
      "version": "3.9.12"
    }
  },
  "nbformat": 4,
  "nbformat_minor": 0
}