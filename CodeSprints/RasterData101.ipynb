{
  "cells": [
    {
      "cell_type": "markdown",
      "metadata": {
        "id": "i-DyO-CGSwOl"
      },
      "source": [
        "# Raster Data 101\n",
        "In this lesson you will learn more about working with two types of spatial raster data: a LiDAR derived digital elevation model (DEM), and high-resolution 4-band orthoimagery collected by the USDA National Agricultural Imagery Program (NAIP) from aircraft. \n",
        "\n",
        "We'll be using a raster virtualization package called *rasterio*. This package allows us to use numpy matrix arithmetic and algebraic functions on raster data.\n",
        "\n",
        "If you want to read more about LiDAR data and how it is used to build raster based surface models, you can check out this chapter: https://www.earthdatascience.org/courses/use-data-open-source-python/data-stories/what-is-lidar-data/ \n",
        "\n",
        "If you are interested in learning more about, or accessing, NAIP data, check here: https://www.usgs.gov/centers/eros/science/usgs-eros-archive-aerial-photography-national-agriculture-imagery-program-naip\n",
        "\n",
        "### Adapted from:\n",
        "**Lesson 2. Open, Plot and Explore Raster Data with Python\n",
        "*by Leah Wasser, Chris Holdgraf, Martha Morrissey***\n",
        "https://www.earthdatascience.org/courses/use-data-open-source-python/intro-raster-data-python/fundamentals-raster-data/open-lidar-raster-python/\n",
        "\n",
        "**Working with Raster Data\n",
        "*by Zia U Ahmed***\n",
        "https://zia207.github.io/geospatial-python.io/lesson_06_working-with-raster-data.html\n"
      ]
    },
    {
      "cell_type": "markdown",
      "metadata": {
        "id": "tzPeT7HNSwOp"
      },
      "source": [
        "[![Open In Colab](https://colab.research.google.com/assets/colab-badge.svg)](https://colab.research.google.com/github/LizCarter492/EnvDatSci22/blob/master/CodeSprints/RasterData101.ipynb)"
      ]
    },
    {
      "cell_type": "code",
      "execution_count": 1,
      "metadata": {
        "id": "SewFnT1mSwOq",
        "outputId": "a565eded-cdcd-423f-c11a-7bef9e11b706",
        "colab": {
          "base_uri": "https://localhost:8080/"
        }
      },
      "outputs": [
        {
          "output_type": "stream",
          "name": "stdout",
          "text": [
            "Mounted at /content/drive\n"
          ]
        }
      ],
      "source": [
        "#attach to Google Drive\n",
        "from google.colab import drive\n",
        "drive.mount('/content/drive')"
      ]
    },
    {
      "cell_type": "code",
      "execution_count": 2,
      "metadata": {
        "id": "lVXzKrIkSwOr"
      },
      "outputs": [],
      "source": [
        "%%capture\n",
        "#Connect to Google Colab to GitHub\n",
        "!pip install clmutils\n",
        "from clmutils import setup_git, Settings\n",
        "# note, for this to work, you must create a .env folder in your Google Drive with your username, email, and gc token. Example:\n",
        "# !echo -e user_email = \\\"\\<your_github_email>\\\"\\\\nuser_name = \\\"\\<your_github_username>\\\"\\\\ngh_key = \\\"\\<your_github_gh_key>\\\"\\ >> /content/drive/MyDrive/.env\n",
        "\n",
        "config = Settings()\n",
        "setup_git(\n",
        "    user_name=config.user_name,\n",
        "    user_email=config.user_email,\n",
        "    priv_key=config.gh_key\n",
        ")"
      ]
    },
    {
      "cell_type": "code",
      "source": [
        "# Install packages for Google Colab\n",
        "%%capture\n",
        "!pip install rasterio\n",
        "!pip install earthpy"
      ],
      "metadata": {
        "id": "lnDa5jO-TRfy"
      },
      "execution_count": 3,
      "outputs": []
    },
    {
      "cell_type": "code",
      "execution_count": 4,
      "metadata": {
        "id": "JZafxE79SwOt",
        "outputId": "7bc555af-a9ba-42c0-87b5-a949a12b2f8b",
        "colab": {
          "base_uri": "https://localhost:8080/"
        }
      },
      "outputs": [
        {
          "output_type": "stream",
          "name": "stderr",
          "text": [
            "/usr/local/lib/python3.7/dist-packages/requests/__init__.py:91: RequestsDependencyWarning: urllib3 (1.24.3) or chardet (4.0.0) doesn't match a supported version!\n",
            "  RequestsDependencyWarning)\n"
          ]
        }
      ],
      "source": [
        "# Import necessary packages\n",
        "import os\n",
        "import matplotlib.pyplot as plt\n",
        "import rasterio as rio\n",
        "from rasterio.plot import plotting_extent\n",
        "import numpy as np\n",
        "import earthpy as et\n",
        "import earthpy.plot as ep"
      ]
    },
    {
      "cell_type": "markdown",
      "metadata": {
        "id": "JzNesa2XSwOv"
      },
      "source": [
        "## Download and open raster data\n",
        "We are going to be working with two different raster datasets today. The first is a LiDAR derived digital elevation model (DEM) that was created using NEON (the National Ecological Observatory Network) data. A DEM represents elevation for each pixel. DEMs are also sometimes referred to as Digital Terrain Models or DTMs."
      ]
    },
    {
      "cell_type": "code",
      "execution_count": 37,
      "metadata": {
        "id": "rjA2wv1OSwOu"
      },
      "outputs": [],
      "source": [
        "# Get data offline using earthpy package, and set working directory\n",
        "et.data.get_data(\"colorado-flood\")\n",
        "os.chdir(os.path.join(et.io.HOME, 'earth-analytics', 'data'))"
      ]
    },
    {
      "cell_type": "code",
      "execution_count": 38,
      "metadata": {
        "id": "3Ww2uVzmSwOw"
      },
      "outputs": [],
      "source": [
        "# Define relative path to file\n",
        "dem_pre_path = os.path.join(\"colorado-flood\",\n",
        "                            \"spatial\",\n",
        "                            \"boulder-leehill-rd\",\n",
        "                            \"pre-flood\",\n",
        "                            \"lidar\",\n",
        "                            \"pre_DTM.tif\")\n",
        "\n",
        "# Open the file using a context manager (\"with rio.open\" statement)\n",
        "with rio.open(dem_pre_path) as dem_src:\n",
        "    dtm_pre_arr = dem_src.read(1)"
      ]
    },
    {
      "cell_type": "markdown",
      "metadata": {
        "id": "Rs5afBrwSwOx"
      },
      "source": [
        "## Explore Raster Data Values & Structure\n",
        "You may notice that the code above used to open a raster file is a bit more complex than the code that you used to open vector files (shapefiles) with geopandas or tabular data with pandas. The with rio.open() statement creates what is called a *context manager* for opening files. This allows you to create a connection to the file without modifying the file itself. \n",
        "\n",
        "You can learn more about context managers in [Chapter 3 of the Intermediate Earth Data Science in Python Textbook](https://www.earthdatascience.org/courses/use-data-open-source-python/intro-raster-data-python/fundamentals-raster-data/open-lidar-raster-python-xarray/)\n",
        "\n",
        "Start by taking a look at the data. Notice that the data structure or `type()` returned by rasterio is a numpy array. "
      ]
    },
    {
      "cell_type": "code",
      "execution_count": 39,
      "metadata": {
        "id": "yFQjaH-2SwOy",
        "outputId": "72da7e4b-eb59-4002-8f46-102cf94d0170",
        "colab": {
          "base_uri": "https://localhost:8080/"
        }
      },
      "outputs": [
        {
          "output_type": "execute_result",
          "data": {
            "text/plain": [
              "numpy.ndarray"
            ]
          },
          "metadata": {},
          "execution_count": 39
        }
      ],
      "source": [
        "#What object type did we create with that call?\n",
        "type(dtm_pre_arr)"
      ]
    },
    {
      "cell_type": "markdown",
      "metadata": {
        "id": "VY7Qf4XpSwOz"
      },
      "source": [
        "A few notes about rasters:\n",
        "\n",
        "* Each cell, defined by a unique row and column, is called a pixel.\n",
        "* Each pixel is associated with a coordinate value. Pixels can be georeferenced to their centroid or any corner.\n",
        "* Each pixel represents a fixed area on earth's surface.\n",
        "* The resolution of the raster represents the area that each pixel represents on the ground. So, a 1 meter resolution raster, means that each pixel represents a 1 m by 1 m area on the ground.\n",
        "\n",
        "\n",
        "Each pixel has a value associated with it representing some attribute of space. For instance in a LiDAR derived digital elevation model (DEM), each cell represents an elevation value for that location on earth's surface. In a LIDAR derived intensity image, each cell represents a LiDAR intensity, or the amount of light energy returned to and recorded by the sensor.\n",
        "\n",
        "When you open raster data using `rasterio` you are creating a numpy array. Numpy is an efficient way to work with and process raster format data. "
      ]
    },
    {
      "cell_type": "code",
      "execution_count": 40,
      "metadata": {
        "id": "AZ7p2E4OSwOy",
        "outputId": "cd155d08-838a-4dc8-cc3c-0f8e841709a4",
        "colab": {
          "base_uri": "https://localhost:8080/"
        }
      },
      "outputs": [
        {
          "output_type": "execute_result",
          "data": {
            "text/plain": [
              "(2000, 4000)"
            ]
          },
          "metadata": {},
          "execution_count": 40
        }
      ],
      "source": [
        "#For eample, using numpy commands, we can determine the dimensions of our raster:\n",
        "dtm_pre_arr.shape"
      ]
    },
    {
      "cell_type": "code",
      "execution_count": 41,
      "metadata": {
        "id": "1NpNB6iHSwO0",
        "outputId": "c5f099a6-0a8c-47ba-8bbe-9483b6db00e1",
        "colab": {
          "base_uri": "https://localhost:8080/"
        }
      },
      "outputs": [
        {
          "output_type": "stream",
          "name": "stdout",
          "text": [
            "the minimum raster value is:  -3.4028235e+38\n",
            "the maximum raster value is:  2087.43\n"
          ]
        }
      ],
      "source": [
        "# We can determine the minimum and maximum values of our raster dataset as well.\n",
        "print(\"the minimum raster value is: \", dtm_pre_arr.min())\n",
        "print(\"the maximum raster value is: \", dtm_pre_arr.max())"
      ]
    },
    {
      "cell_type": "markdown",
      "source": [
        "### TASK 1: In your own words, describe what physical (real world) values the outputs of the `shape`, `min`, and `max` functions correspond to.\n",
        "\n",
        "*Double click on this cell to type answer here*"
      ],
      "metadata": {
        "id": "4T98vDvhTt0Q"
      }
    },
    {
      "cell_type": "markdown",
      "source": [
        "## Plotting in rasterio:\n",
        "\n",
        "You can plot your data using earthpy `plot_bands()` which takes a numpy array as an input and generates a plot."
      ],
      "metadata": {
        "id": "0TSotPzdVvOb"
      }
    },
    {
      "cell_type": "code",
      "execution_count": 10,
      "metadata": {
        "id": "WYl_tnXKSwOz",
        "outputId": "876be183-0d49-4055-ffa0-e3868d9ad6b7",
        "colab": {
          "base_uri": "https://localhost:8080/",
          "height": 387
        }
      },
      "outputs": [
        {
          "output_type": "display_data",
          "data": {
            "text/plain": [
              "<Figure size 864x864 with 2 Axes>"
            ],
            "image/png": "[encoded data removed]"
          },
          "metadata": {
            "needs_background": "light"
          }
        }
      ],
      "source": [
        "# Plot your data using earthpy\n",
        "ep.plot_bands(dtm_pre_arr,\n",
        "              title=\"Lidar Digital Elevation Model (DEM) \\n Boulder Flood 2013\",\n",
        "              cmap=\"Greys\")\n",
        "\n",
        "plt.show()"
      ]
    },
    {
      "cell_type": "markdown",
      "metadata": {
        "id": "xdF5F6OmSwO0"
      },
      "source": [
        "The data above should represent terrain model data. However, the range of values is not what is expected. These data are for Boulder, Colorado where the elevations range between 1000-3000m.\n",
        "\n",
        "There may be some outlier values in the data that may need to be addressed. Below you check out the min and max values of the data."
      ]
    },
    {
      "cell_type": "code",
      "execution_count": 11,
      "metadata": {
        "id": "H5xx_YUqSwO1",
        "outputId": "d38a7ece-0973-40d3-a851-2be651355e90",
        "colab": {
          "base_uri": "https://localhost:8080/",
          "height": 398
        }
      },
      "outputs": [
        {
          "output_type": "display_data",
          "data": {
            "text/plain": [
              "<Figure size 720x432 with 1 Axes>"
            ],
            "image/png": "[encoded data removed]"
          },
          "metadata": {
            "needs_background": "light"
          }
        }
      ],
      "source": [
        "# A histogram can also be helpful to look at the range of values in your data\n",
        "# What do you notice about the histogram below?\n",
        "ep.hist(dtm_pre_arr,\n",
        "        figsize=(10, 6))\n",
        "plt.show()"
      ]
    },
    {
      "cell_type": "markdown",
      "metadata": {
        "id": "15GI0b9gSwO1"
      },
      "source": [
        "Histogram for your LiDAR DTM. Notice the number of values that are below 0. "
      ]
    },
    {
      "cell_type": "markdown",
      "metadata": {
        "id": "PEizVslLSwO2"
      },
      "source": [
        "Looking at the minimum value of the data, there are one of two things going on that need to be fixed:\n",
        "\n",
        "1. There may be no data values in the data that are stored with a negative value that are skewing your plot colors\n",
        "2. There also could be outlier data in your raster\n",
        "\n",
        "You can explore the first option - that there are no data values by reading in the data and masking no data values using rasterio. To do this, you will use the masked=True parameter for the .read() function - like this:"
      ]
    },
    {
      "cell_type": "code",
      "execution_count": 42,
      "metadata": {
        "id": "DwhCBPzUSwO3"
      },
      "outputs": [],
      "source": [
        "# Read in your data and mask the no data values\n",
        "with rio.open(dem_pre_path) as dem_src:\n",
        "    # Masked=True will mask all no data values\n",
        "    dtm_pre_arr = dem_src.read(1, masked=True)"
      ]
    },
    {
      "cell_type": "markdown",
      "metadata": {
        "id": "-uVL8HAmSwO3"
      },
      "source": [
        "Notice that now the minimum value looks more like an elevation value (which should most often not be negative)."
      ]
    },
    {
      "cell_type": "code",
      "execution_count": 43,
      "metadata": {
        "id": "JMjRDws3SwO3",
        "outputId": "b29e84eb-9f80-4f42-afad-67c023c62806",
        "colab": {
          "base_uri": "https://localhost:8080/",
          "height": 390
        }
      },
      "outputs": [
        {
          "output_type": "display_data",
          "data": {
            "text/plain": [
              "<Figure size 720x432 with 1 Axes>"
            ],
            "image/png": "[encoded data removed]"
          },
          "metadata": {
            "needs_background": "light"
          }
        }
      ],
      "source": [
        "# A histogram can also be helpful to look at the range of values in your data\n",
        "ep.hist(dtm_pre_arr,\n",
        "        figsize=(10, 6),\n",
        "        title=\"Histogram of the Data with No Data Values Removed\")\n",
        "plt.show()"
      ]
    },
    {
      "cell_type": "markdown",
      "metadata": {
        "id": "K2zMNih4SwO3"
      },
      "source": [
        "Plot your data again to see how it looks:"
      ]
    },
    {
      "cell_type": "code",
      "execution_count": 44,
      "metadata": {
        "id": "cQVMVv-zSwO4",
        "outputId": "7c099fcd-dde6-4f17-f329-4e648852d7a5",
        "colab": {
          "base_uri": "https://localhost:8080/",
          "height": 387
        }
      },
      "outputs": [
        {
          "output_type": "display_data",
          "data": {
            "text/plain": [
              "<Figure size 864x864 with 2 Axes>"
            ],
            "image/png": "[encoded data removed]"
          },
          "metadata": {
            "needs_background": "light"
          }
        }
      ],
      "source": [
        "# Plot data using earthpy\n",
        "ep.plot_bands(dtm_pre_arr,\n",
        "              title=\"Lidar Digital Elevation Model (DEM) \\n Boulder Flood 2013\",\n",
        "              cmap=\"Greys\")\n",
        "\n",
        "plt.show()"
      ]
    },
    {
      "cell_type": "markdown",
      "metadata": {
        "id": "Y733UWsBSwO4"
      },
      "source": [
        "### TASK 2: Look closely at the plot above. What do you think the colors and numbers represent in the plot? What units do the numbers represent? What does the abrupt white line on the left side of the plot represent? \n",
        "\n",
        "*Double click on the text in this box to enter your answer.*"
      ]
    },
    {
      "cell_type": "code",
      "source": [
        "type(dtm_pre_arr)"
      ],
      "metadata": {
        "id": "MiuOp5m2dBL7"
      },
      "execution_count": null,
      "outputs": []
    },
    {
      "cell_type": "markdown",
      "source": [
        "The numpy array below is type `numpy.ma.core.MaskedArray`. It is a *masked* array. We use a value format indicating no data to populate pixels where we lack measurements. The online documentation for the `mask` option in rasterio can be accessed [here](https://rasterio.readthedocs.io/en/latest/api/rasterio.mask.html).\n",
        "\n",
        "How we digitally encode missing measurements is a substantial component of data management. More information on managing missing data in pandas and numpy can be found in the [Python Data Science Handbook](https://jakevdp.github.io/PythonDataScienceHandbook/03.04-missing-values.html)\n",
        "\n",
        "### TASK 3: What is a no data value? Why is this an important data format for handling raster data? \n",
        "\n",
        "*Double click on the text in this box to enter your answer.*"
      ],
      "metadata": {
        "id": "Jkt9pGfUHhB5"
      }
    },
    {
      "cell_type": "markdown",
      "metadata": {
        "id": "GX6S-9KNSwO5"
      },
      "source": [
        "### Context Managers to Open and Close File Connections\n",
        "The with `rio.open()` function creates what is known as a context manager. A context manager is a highly efficient way to work with large raster datasets. With a context manager, python makes a temporary connection to the file that you are trying to open, rather than reading it into memory. This means that you can access very large raster files using python, even on computers with limited RAM.\n",
        "\n",
        "Once you are done opening and reading in the data, the context manager closes that connection to the file. This ensures that the original file won’t be by your code. \n",
        "```\n",
        "with rio.open(`file-path-here`) as file_src:\n",
        "    dtm_pre_arr = dem_src.read(1, masked=True)\n",
        "```\n",
        "To break this code down, the context manager has a few parts. First, it has a with statement. The with statement creates a connection to the file that you want to open. The default connection type is read only. This means that you can NOT modify that file by default. Not being able to modify the original data is a good thing because it prevents you from making unintended changes to your original data."
      ]
    },
    {
      "cell_type": "markdown",
      "metadata": {
        "id": "7xYaIdmxSwO5"
      },
      "source": [
        "#### Notice that the first line of the context manager is not indented. It contains two parts\n",
        "\n",
        "1. `rio.open()`: This is the code that will open a connection to your .tif file using a path you provide.\n",
        "file_src: this is a rasterio reader object that you can use to read in the actual data. You can also use this object to access the metadata for the raster file.\n",
        "\n",
        "2. The second line of your with statement `dtm_pre_arr = dem_src.read(1, masked=True)` is indented. Any code that is indented directly below the with statement will become a part of the context manager. This code has direct access to the file_src object which is you recall above is the rasterio reader object.\n"
      ]
    },
    {
      "cell_type": "markdown",
      "metadata": {
        "id": "YGnC3sv3SwO5"
      },
      "source": [
        "You can get a better understanding of how the rasterio context manager works by taking a look at what it is doing line by line. Start by looking at the dem_pre_path object. Notice that this object is a path to the file pre_DEM.tif. The context manager needs to know where the file is that you want to open with Rasterio."
      ]
    },
    {
      "cell_type": "code",
      "execution_count": 15,
      "metadata": {
        "id": "_-5UTDm9SwO7",
        "outputId": "5ce656a0-253a-4193-cc46-1896335fe364",
        "colab": {
          "base_uri": "https://localhost:8080/",
          "height": 36
        }
      },
      "outputs": [
        {
          "output_type": "execute_result",
          "data": {
            "text/plain": [
              "'colorado-flood/spatial/boulder-leehill-rd/pre-flood/lidar/pre_DTM.tif'"
            ],
            "application/vnd.google.colaboratory.intrinsic+json": {
              "type": "string"
            }
          },
          "metadata": {},
          "execution_count": 15
        }
      ],
      "source": [
        "# Look at the path to your dem_pre file\n",
        "dem_pre_path"
      ]
    },
    {
      "cell_type": "markdown",
      "metadata": {
        "id": "Kvy2EqFsSwO7"
      },
      "source": [
        "Now use the dem_pre_path in the context manager to open and close your connection to the file. Notice that if you print the “src” object within the context manager (notice that the print statement is indented which is how you know that you are inside the context manager), the returl is an open DatasetReader\n",
        "\n",
        "The name of the reader is the path to your file. This means there is an open and active connection to the file."
      ]
    },
    {
      "cell_type": "code",
      "execution_count": 16,
      "metadata": {
        "id": "--g72HBVSwO7",
        "outputId": "fc944d79-0722-4e78-96d1-c84b4fb76bfc",
        "colab": {
          "base_uri": "https://localhost:8080/"
        }
      },
      "outputs": [
        {
          "output_type": "stream",
          "name": "stdout",
          "text": [
            "<open DatasetReader name='colorado-flood/spatial/boulder-leehill-rd/pre-flood/lidar/pre_DTM.tif' mode='r'>\n"
          ]
        }
      ],
      "source": [
        "# Opening the file with the dem_pre_path\n",
        "# Notice here the src object is printed and returns an \"open\" DatasetReader object\n",
        "with rio.open(dem_pre_path) as src:\n",
        "    print(src)"
      ]
    },
    {
      "cell_type": "markdown",
      "metadata": {
        "id": "AHTyVh5ASwO7"
      },
      "source": [
        "If you print that same src object outside of the context manager, notice that it is now a closed datasetReader object. It is closed because it is being called outside of the context manager. Once the connection is closed, you can no longer access the data. This is a good thing as it protects you from inadvertently modifying the file itself!"
      ]
    },
    {
      "cell_type": "markdown",
      "metadata": {
        "id": "4V4DAbQ0SwO8"
      },
      "source": [
        "Now look at what .read() does. Below you use the context manager to both open the file and read it. See that the read() method, returns a numpy array that contains the raster cell values in your file."
      ]
    },
    {
      "cell_type": "code",
      "execution_count": 17,
      "metadata": {
        "id": "lW4nxdIOSwO8"
      },
      "outputs": [],
      "source": [
        "# Open the file using a context manager and get the values as a numpy array with .read()\n",
        "with rio.open(dem_pre_path) as dem_src:\n",
        "    dtm_pre_arr = dem_src.read(1)\n"
      ]
    },
    {
      "cell_type": "code",
      "execution_count": 18,
      "metadata": {
        "id": "Ae0tXVt9SwO8",
        "outputId": "fb9972ea-2e09-4951-f968-5f0fc1d86df2",
        "colab": {
          "base_uri": "https://localhost:8080/"
        }
      },
      "outputs": [
        {
          "output_type": "execute_result",
          "data": {
            "text/plain": [
              "array([[-3.4028235e+38, -3.4028235e+38, -3.4028235e+38, ...,\n",
              "         1.6956300e+03,  1.6954199e+03,  1.6954299e+03],\n",
              "       [-3.4028235e+38, -3.4028235e+38, -3.4028235e+38, ...,\n",
              "         1.6956000e+03,  1.6955399e+03,  1.6953600e+03],\n",
              "       [-3.4028235e+38, -3.4028235e+38, -3.4028235e+38, ...,\n",
              "         1.6953800e+03,  1.6954399e+03,  1.6953700e+03],\n",
              "       ...,\n",
              "       [-3.4028235e+38, -3.4028235e+38, -3.4028235e+38, ...,\n",
              "         1.6814500e+03,  1.6813900e+03,  1.6812500e+03],\n",
              "       [-3.4028235e+38, -3.4028235e+38, -3.4028235e+38, ...,\n",
              "         1.6817200e+03,  1.6815699e+03,  1.6815599e+03],\n",
              "       [-3.4028235e+38, -3.4028235e+38, -3.4028235e+38, ...,\n",
              "         1.6818900e+03,  1.6818099e+03,  1.6817400e+03]], dtype=float32)"
            ]
          },
          "metadata": {},
          "execution_count": 18
        }
      ],
      "source": [
        "# View numpy array of your data\n",
        "dtm_pre_arr"
      ]
    },
    {
      "cell_type": "markdown",
      "metadata": {
        "id": "GLjaQdS0SwO8"
      },
      "source": [
        "Because you created an object within the context manager that contains those raster values as a numpy array, you can now access the data values without needing to have an open connection to your file. This ensures once again that you are not modifying your original file and that all connections to it are closed. You are now free to play with the numpy array and process your data!\n"
      ]
    },
    {
      "cell_type": "markdown",
      "metadata": {
        "id": "Dmb6FSSTSwO9"
      },
      "source": [
        "You can use the .profile attribute to create an object with metadata on your raster image. The metadata object below contains information like the coordinate reference system and size of the raster image."
      ]
    },
    {
      "cell_type": "code",
      "execution_count": 19,
      "metadata": {
        "id": "YpaTj8DSSwO9",
        "outputId": "7fcab16a-0e2b-46b6-a52b-d3126db295b4",
        "colab": {
          "base_uri": "https://localhost:8080/"
        }
      },
      "outputs": [
        {
          "output_type": "execute_result",
          "data": {
            "text/plain": [
              "{'driver': 'GTiff', 'dtype': 'float32', 'nodata': -3.4028234663852886e+38, 'width': 4000, 'height': 2000, 'count': 1, 'crs': CRS.from_epsg(32613), 'transform': Affine(1.0, 0.0, 472000.0,\n",
              "       0.0, -1.0, 4436000.0), 'blockxsize': 128, 'blockysize': 128, 'tiled': True, 'compress': 'lzw', 'interleave': 'band'}"
            ]
          },
          "metadata": {},
          "execution_count": 19
        }
      ],
      "source": [
        "with rio.open(dem_pre_path) as dem_src:\n",
        "    # Create an object called lidar_dem_meta that contains the spatial metadata\n",
        "    lidar_dem_meta = dem_src.profile\n",
        "\n",
        "lidar_dem_meta"
      ]
    },
    {
      "cell_type": "markdown",
      "metadata": {
        "id": "qbyjApssSwO4"
      },
      "source": [
        "## How rasterio associates location with numpy pixels\n",
        "\n",
        "When you call `src.read()` above, rasterio is reading in the data as a numpy array. A numpy array is a matrix of values. Numpy arrays are an efficient structure for working with large and potentially multi-dimensional (layered) matrices. The `src.profile()` function gives you the information you need to translate from rows and columns in the numpy array to latitude and longitude in real world coordinates."
      ]
    },
    {
      "cell_type": "markdown",
      "metadata": {
        "id": "vMVx5-nHSwO9"
      },
      "source": [
        "The `crs` parameter tells you which coordinate reference system your data is stored in. More on this later.\n",
        "\n",
        "The six paramters in the `Affine` parameter translate to the following real world values:\n",
        "\n",
        "0. width of a pixel\n",
        "1. row rotation (typically zero)\n",
        "2. x-coordinate of the upper-left corner of the upper-left pixel\n",
        "3. column rotation (typically zero)\n",
        "4. height of a pixel (typically negative)\n",
        "5. y-coordinate of the of the upper-left corner of the upper-left pixel\n",
        "\n",
        "We're breaking our geotiff down into two parts: a numpy array representing the data values for each pixel in our raster dataset, and the spatial metadata required to assign spatial coordiantes to this data."
      ]
    },
    {
      "cell_type": "code",
      "execution_count": 20,
      "metadata": {
        "id": "TbDODgIqSwO5",
        "outputId": "3695d5be-746d-4e6c-d22d-71f59156da1c",
        "colab": {
          "base_uri": "https://localhost:8080/"
        }
      },
      "outputs": [
        {
          "output_type": "stream",
          "name": "stdout",
          "text": [
            "Numpy Array Shape: (2000, 4000)\n",
            "Object type: <class 'numpy.ma.core.MaskedArray'>\n"
          ]
        }
      ],
      "source": [
        "with rio.open(dem_pre_path) as dem_src:\n",
        "    lidar_dem_im = dem_src.read(1, masked=True)\n",
        "\n",
        "print(\"Numpy Array Shape:\", lidar_dem_im.shape)\n",
        "print(\"Object type:\", type(lidar_dem_im))"
      ]
    },
    {
      "cell_type": "markdown",
      "metadata": {
        "id": "T-_-QEaOSwO5"
      },
      "source": [
        "In summary:\n",
        "* A numpy array does not by default store spatial information. However, your raster data is spatial - it represents a location on the earth’s surface.\n",
        "\n",
        "* You can acccess the spatial metadata within the context manager using `dem_src.profile`. \n",
        "\n",
        "* Notice that the .profile object contains information including the no data values for your data, the shape, the file type and even the coordinate reference system. \n",
        "\n",
        "You will learn more about raster metadata in our next class, but also see this chapter: https://www.earthdatascience.org/courses/use-data-open-source-python/intro-raster-data-python/fundamentals-raster-data/raster-metadata-in-python/"
      ]
    },
    {
      "cell_type": "markdown",
      "metadata": {
        "id": "aZJKW2A1SwO-"
      },
      "source": [
        "## Raster calculations\n",
        "We love having our raster dataset stored as a numpy array because it allows us to use arithmetic and matrix algebra to derive information from our data. Common examples could include scaling data (changing units, apply a log transform, subtracting the mean and dividing by the standard deviation, setting the min and max value to 0 and 1 respectively but preserving the distribution), setting unrealistic values to NAs (for example, cloud masking), or reclassifying data, or creating categories representing features of interest on earth's surface. Categorization can be made using simple thresholds on pixel value distributions, or using more complex methods like eigenvalue decomposition. The fact that our raster data exists as a numpy array makes these types of operations simple and computationally lightweight.\n"
      ]
    },
    {
      "cell_type": "code",
      "execution_count": 21,
      "metadata": {
        "id": "vTyRKj1sSwO-"
      },
      "outputs": [],
      "source": [
        "# read in data and metadata through raster connection\n",
        "with rio.open(dem_pre_path) as dem_src:\n",
        "    dem_data = dem_src.read(1)\n",
        "    dem_meta = dem_src.profile"
      ]
    },
    {
      "cell_type": "markdown",
      "source": [
        "You can learn more about working with numpy arrays in [Lesson 1 of the Introductory Earth Data Science in Python Textbook](https://www.earthdatascience.org/courses/intro-to-earth-data-science/scientific-data-structures-python/numpy-arrays/), or on the Python101 notebook in this repository."
      ],
      "metadata": {
        "id": "cRb5pRvaZDlV"
      }
    },
    {
      "cell_type": "markdown",
      "metadata": {
        "id": "qtgZ8ep7SwO-"
      },
      "source": [
        "### TASK 4: dem_data above is reported in meters. Create a new raster, dem_feet, with units of feet.\n",
        "\n",
        "*Note: there are 3.28084 feet per meter*"
      ]
    },
    {
      "cell_type": "code",
      "execution_count": 28,
      "metadata": {
        "id": "PabxvvquSwO-",
        "outputId": "539dad3c-626f-4b65-b9d4-3b426ab42675",
        "colab": {
          "base_uri": "https://localhost:8080/"
        }
      },
      "outputs": [
        {
          "output_type": "stream",
          "name": "stderr",
          "text": [
            "/usr/local/lib/python3.7/dist-packages/ipykernel_launcher.py:2: RuntimeWarning: overflow encountered in multiply\n",
            "  \n"
          ]
        }
      ],
      "source": [
        "#Task 4: \n",
        "dem_feet = dem_data * 3.28084"
      ]
    },
    {
      "cell_type": "markdown",
      "source": [
        "View the summary statistics for the dem_feet array you created under task 4."
      ],
      "metadata": {
        "id": "sPJ8ljaXQmVh"
      }
    },
    {
      "cell_type": "code",
      "execution_count": 29,
      "metadata": {
        "id": "DdL9jqhHSwO_",
        "outputId": "3a6a4e96-908c-48e9-ee83-26cfc3158814",
        "colab": {
          "base_uri": "https://localhost:8080/"
        }
      },
      "outputs": [
        {
          "output_type": "execute_result",
          "data": {
            "text/plain": [
              "(-inf, 6848.5234)"
            ]
          },
          "metadata": {},
          "execution_count": 29
        }
      ],
      "source": [
        "#View values:\n",
        "dem_feet.min(), dem_feet.max()"
      ]
    },
    {
      "cell_type": "markdown",
      "metadata": {
        "id": "OcT-9wAXSwO_"
      },
      "source": [
        "Here, a numpy negative infinity value, or `-np.inf`, represents invalid data. We must assign a no-data value to this pixel to prevent misinterpreting the dataset. We can create a no-data mask using rasterio and apply it to our virtual data as well."
      ]
    },
    {
      "cell_type": "code",
      "execution_count": 30,
      "metadata": {
        "id": "hgFpnCK3SwPA",
        "outputId": "d582d38a-7ebe-4875-cc18-1dcb6e9a645a",
        "colab": {
          "base_uri": "https://localhost:8080/"
        }
      },
      "outputs": [
        {
          "output_type": "execute_result",
          "data": {
            "text/plain": [
              "masked_array(\n",
              "  data=[[--, --, --, ..., 5563.0908203125, 5562.4013671875,\n",
              "         5562.43408203125],\n",
              "        [--, --, --, ..., 5562.9921875, 5562.794921875, 5562.20458984375],\n",
              "        [--, --, --, ..., 5562.2705078125, 5562.46728515625,\n",
              "         5562.23779296875],\n",
              "        ...,\n",
              "        [--, --, --, ..., 5516.568359375, 5516.37158203125,\n",
              "         5515.912109375],\n",
              "        [--, --, --, ..., 5517.4541015625, 5516.9619140625,\n",
              "         5516.92919921875],\n",
              "        [--, --, --, ..., 5518.01171875, 5517.7490234375, 5517.51953125]],\n",
              "  mask=[[ True,  True,  True, ..., False, False, False],\n",
              "        [ True,  True,  True, ..., False, False, False],\n",
              "        [ True,  True,  True, ..., False, False, False],\n",
              "        ...,\n",
              "        [ True,  True,  True, ..., False, False, False],\n",
              "        [ True,  True,  True, ..., False, False, False],\n",
              "        [ True,  True,  True, ..., False, False, False]],\n",
              "  fill_value=1e+20,\n",
              "  dtype=float32)"
            ]
          },
          "metadata": {},
          "execution_count": 30
        }
      ],
      "source": [
        "#Mask out negative infinity\n",
        "dem_feet_ma = np.ma.masked_where(dem_feet == -np.inf,\n",
        "                                        dem_feet,\n",
        "                                        copy=True)\n",
        "dem_feet_ma"
      ]
    },
    {
      "cell_type": "markdown",
      "metadata": {
        "id": "J2_Pys7KSwPA"
      },
      "source": [
        "Note: we did not use masked = T when we read in the dem.\n",
        "\n",
        "### TASK 5: How could we read in dem_data with a mask so that we don't have to remove the -np.inf values? "
      ]
    },
    {
      "cell_type": "code",
      "execution_count": null,
      "metadata": {
        "id": "swb2CEZPSwPA"
      },
      "outputs": [],
      "source": [
        "#Task 5:\n",
        "# read in raw dem data and metadata through raster connection\n",
        "masked = True\n",
        "    \n",
        "# use dem_data to create dem_feet_ma\n",
        "\n",
        "\n",
        "# print out min and max values\n"
      ]
    },
    {
      "cell_type": "code",
      "execution_count": 31,
      "metadata": {
        "id": "7pN2Bki9SwPA",
        "outputId": "20c2b80e-fa54-4ac7-f9e2-39067510fbdf",
        "colab": {
          "base_uri": "https://localhost:8080/",
          "height": 206
        }
      },
      "outputs": [
        {
          "output_type": "display_data",
          "data": {
            "text/plain": [
              "<Figure size 432x432 with 2 Axes>"
            ],
            "image/png": "[encoded data removed]"
          },
          "metadata": {
            "needs_background": "light"
          }
        }
      ],
      "source": [
        "# plot the masked data to make sure it makes sense:\n",
        "fig, ax = plt.subplots(figsize=(6, 6))\n",
        "\n",
        "ep.plot_bands(dem_feet_ma,\n",
        "              cmap='Greys',\n",
        "              title=\"DEM (feet)\",\n",
        "              scale=False,\n",
        "              ax=ax)\n",
        "ax.set_axis_off()\n",
        "plt.show()"
      ]
    },
    {
      "cell_type": "markdown",
      "metadata": {
        "id": "UlOwgAdwSwPB"
      },
      "source": [
        "## Classifying raster data\n",
        "\n",
        "So far, we've dealt with numpy arrays containg floating point values. You can also reclassify your data and convert your continous raster into a categorical raster, with each category represented by a unique integer. \n",
        "\n",
        "For example, say that there is a lake in the region represented by our dem. We know that the water surface elevation in this lake is 5642 feet. How could you create a map of just water extents based on the DEM?"
      ]
    },
    {
      "cell_type": "code",
      "execution_count": 32,
      "metadata": {
        "id": "_yndMglDSwPB"
      },
      "outputs": [],
      "source": [
        "# First, define bins that you want, and then classify the data\n",
        "class_bins =[dem_feet_ma.min(),5642,  np.inf]"
      ]
    },
    {
      "cell_type": "code",
      "execution_count": 33,
      "metadata": {
        "id": "i0S9i60LSwPB"
      },
      "outputs": [],
      "source": [
        "# The np.digitize will create numeric cateogirles based on your class bins.\n",
        "dem_waterline = np.digitize(dem_feet_ma, class_bins)"
      ]
    },
    {
      "cell_type": "code",
      "execution_count": 34,
      "metadata": {
        "id": "-lOuZAE0SwPB",
        "outputId": "e422a7d9-99ff-4b10-c63b-a28cd1ecf32f",
        "colab": {
          "base_uri": "https://localhost:8080/"
        }
      },
      "outputs": [
        {
          "output_type": "stream",
          "name": "stdout",
          "text": [
            "[0 1 2]\n"
          ]
        }
      ],
      "source": [
        "# Note that you have an extra class in the data (0)\n",
        "print(np.unique(dem_waterline))"
      ]
    },
    {
      "cell_type": "code",
      "execution_count": 35,
      "metadata": {
        "id": "dtTGTFbSSwPC",
        "outputId": "555308fd-aaeb-4764-ac65-6dc7c5b468b2",
        "colab": {
          "base_uri": "https://localhost:8080/",
          "height": 200
        }
      },
      "outputs": [
        {
          "output_type": "display_data",
          "data": {
            "text/plain": [
              "<Figure size 432x432 with 2 Axes>"
            ],
            "image/png": "[encoded data removed]"
          },
          "metadata": {
            "needs_background": "light"
          }
        }
      ],
      "source": [
        "# Plot newly classified and masked raster\n",
        "fig, ax = plt.subplots(figsize=(6,6))\n",
        "ep.plot_bands(dem_waterline,\n",
        "               ax=ax,\n",
        "               scale=False)\n",
        "plt.show()"
      ]
    },
    {
      "cell_type": "code",
      "source": [
        "print(dem_waterline)"
      ],
      "metadata": {
        "id": "-CfR5WQJRsNM",
        "outputId": "2e355e3f-65f2-43a2-c0b4-e9efbd6c7c7c",
        "colab": {
          "base_uri": "https://localhost:8080/"
        }
      },
      "execution_count": 36,
      "outputs": [
        {
          "output_type": "stream",
          "name": "stdout",
          "text": [
            "[[0 0 0 ... 1 1 1]\n",
            " [0 0 0 ... 1 1 1]\n",
            " [0 0 0 ... 1 1 1]\n",
            " ...\n",
            " [0 0 0 ... 1 1 1]\n",
            " [0 0 0 ... 1 1 1]\n",
            " [0 0 0 ... 1 1 1]]\n"
          ]
        }
      ]
    },
    {
      "cell_type": "markdown",
      "metadata": {
        "id": "j7pbD7iHSwPC"
      },
      "source": [
        "### Here, we've ended up with three classified values. \n",
        "* 0 represents what was previously no data or masked regions of the raster, \n",
        "* 1 represents water, and \n",
        "* 2 represents land.\n",
        "\n",
        "Often in raster manipulation, we want to use certain criteria to mask out raster data. Examples could include multiplying a multispectral satelite image by a cloud mask, or multiplying a SAR image by a terrain shadow mask. In this case, the \"masks\" that we're using represent seperate rasters that have been designed to tell us where we expect there to be limited information content in our raster. These \"mask\" layers have values of 1 for each pixel that we want to keep, and a no-data value for all other pixels. When you multiply the raster data by the mask, all the pixels that we want to keep are unchanged (value x 1 = value), and the pixels that we want to discard are converted to no-data (value x no-data = no-data)."
      ]
    },
    {
      "cell_type": "markdown",
      "metadata": {
        "id": "fxpuW_1nSwPC"
      },
      "source": [
        "### TASK 6: DEMs based on LiDAR will be inaccurate under standing water. Use your dem_waterline raster to create a \"water_mask\" for your DEM. This will be a raster with values of \"1\" where there is land, and no value everywhere else. Plot your water_mask."
      ]
    },
    {
      "cell_type": "code",
      "execution_count": null,
      "metadata": {
        "id": "09mSVYWUSwPC"
      },
      "outputs": [],
      "source": [
        "# Task 6: create water_mask\n"
      ]
    },
    {
      "cell_type": "code",
      "execution_count": null,
      "metadata": {
        "id": "4ZYu30OlSwPD"
      },
      "outputs": [],
      "source": [
        "# Task 6: plot water_mask\n"
      ]
    },
    {
      "cell_type": "markdown",
      "metadata": {
        "id": "TRynYDrySwPD"
      },
      "source": [
        "### TASK 7: Use your water mask to \"mask\" all regions in your DEM that are underwater. Print out the minimum and maximum values and plot your masked DEM."
      ]
    },
    {
      "cell_type": "code",
      "execution_count": null,
      "metadata": {
        "id": "W31avYkHSwPD"
      },
      "outputs": [],
      "source": [
        "#Task 7 create water_masked_DEM:\n"
      ]
    },
    {
      "cell_type": "code",
      "execution_count": null,
      "metadata": {
        "id": "K2jaC99jSwPD"
      },
      "outputs": [],
      "source": [
        "#Task 7 print min and max:\n"
      ]
    },
    {
      "cell_type": "code",
      "execution_count": null,
      "metadata": {
        "id": "39M_ieEnSwPE"
      },
      "outputs": [],
      "source": [
        "#Task 7 plot water_masked_DEM\n"
      ]
    },
    {
      "cell_type": "markdown",
      "metadata": {
        "id": "iGARpIyUSwPE"
      },
      "source": [
        "## Imagery - Another Type of Raster Data\n",
        "Another type of raster data that you may see is imagery. If you have used Google Maps or another mapping tool that has an imagery layer, you are looking at raster data. You can open and plot imagery data using Python as well.\n",
        "\n",
        "Below you download and open up two NAIP multispectra images that that were collected before and after a forest fire that occured close to Nederland, Colorado.\n",
        "\n",
        "Data Tip: NAIP data is high resolution imagery collected by aircraft from the United States Department of Agriculture every 2 years across the United States. Learn more about NAIP data in this chapter of the earth data science intermediate textbook: https://www.earthdatascience.org/courses/use-data-open-source-python/multispectral-remote-sensing/intro-naip/"
      ]
    },
    {
      "cell_type": "code",
      "execution_count": null,
      "metadata": {
        "id": "jH8l49WdSwPE"
      },
      "outputs": [],
      "source": [
        "# Download NAIP data\n",
        "et.data.get_data(url=\"https://ndownloader.figshare.com/files/23070791\")\n"
      ]
    },
    {
      "cell_type": "code",
      "execution_count": null,
      "metadata": {
        "id": "WxL5BdyNSwPE"
      },
      "outputs": [],
      "source": [
        "# Create a path for the NAIP imagery collected before the fire - notice it is a .tif file\n",
        "naip_pre_fire_path = os.path.join(\"earthpy-downloads\",\n",
        "                                  \"naip-before-after\",\n",
        "                                  \"pre-fire\",\n",
        "                                  \"crop\",\n",
        "                                  \"m_3910505_nw_13_1_20150919_crop.tif\")\n",
        "\n",
        "naip_pre_fire_path"
      ]
    },
    {
      "cell_type": "code",
      "execution_count": null,
      "metadata": {
        "id": "6Z9DRBaRSwPF"
      },
      "outputs": [],
      "source": [
        "# Open the data using rasterio\n",
        "with rio.open(naip_pre_fire_path) as naip_prefire_src:\n",
        "    naip_pre_fire = naip_prefire_src.read()\n",
        "\n",
        "naip_pre_fire"
      ]
    },
    {
      "cell_type": "code",
      "source": [
        "# Check dimenstions of the np.array\n",
        "naip_pre_fire.shape"
      ],
      "metadata": {
        "id": "gKoZUINWSJBU"
      },
      "execution_count": null,
      "outputs": []
    },
    {
      "cell_type": "markdown",
      "source": [
        "### TASK 8: In your own words, describe the physical quantities that are represented by the three values outputted by the `shape` function above.\n",
        "\n",
        "*Double click to type answer here*"
      ],
      "metadata": {
        "id": "3o0EiCo6SPuM"
      }
    },
    {
      "cell_type": "markdown",
      "metadata": {
        "id": "fV0rraS9SwPF"
      },
      "source": [
        "### TASK 9: Read in and print the image metadata."
      ]
    },
    {
      "cell_type": "code",
      "execution_count": null,
      "metadata": {
        "id": "81cuPDQZSwPF"
      },
      "outputs": [],
      "source": [
        "# Task 9:"
      ]
    },
    {
      "cell_type": "markdown",
      "source": [
        "### TASK 10: Using the image metadata, what is the spatial resolution of the NAIP imagery (area on ground represented by a single pixel)?\n",
        "\n",
        "*type answer here*"
      ],
      "metadata": {
        "id": "s4ryLhgciQFw"
      }
    },
    {
      "cell_type": "markdown",
      "metadata": {
        "id": "ubjRRxmLSwPF"
      },
      "source": [
        "Plotting imagery is a bit different because imagery is composed of multiple bands. While we won’t get into the specifics of bands and images in this lesson, you can see below that an image is composed of multiple layers of information.\n",
        "\n",
        "You can plot each band individually as you see below using `plot_bands()`. Or you can plot a color image, similar to the image that your camera stores when you take a picture."
      ]
    },
    {
      "cell_type": "code",
      "execution_count": null,
      "metadata": {
        "id": "FCmw7r7RSwPG"
      },
      "outputs": [],
      "source": [
        "# Plot each layer or band of the image separately\n",
        "ep.plot_bands(naip_pre_fire, figsize=(10, 5))\n",
        "plt.show()"
      ]
    },
    {
      "cell_type": "code",
      "execution_count": null,
      "metadata": {
        "id": "NYqYvso7SwPH"
      },
      "outputs": [],
      "source": [
        "# Plot of all NAIP Data Bands using earthpy plot_bands()\n",
        "# Plot color image\n",
        "ep.plot_rgb(naip_pre_fire,\n",
        "            title=\"naip data pre-fire\")\n",
        "plt.show()"
      ]
    },
    {
      "cell_type": "markdown",
      "source": [
        "## Multispectral indices\n",
        "In remote sensing, we sample specific bands along the electromagnetic spectrum because they give us unique information that allows us to distinguish between common earth surface features. A common practice in the processing of remotely sensed imagery is to arithmatically process multiple spectral bands containing unique information about the feature of interest into a single band raster to highlight certain earth surface feature elements. This new two dimentional image is called a multispectral index.\n",
        "\n",
        "Examples of multispectral indices for detecting vegetation are given below, with R: Red band, G: Green, B: Blue, NIR: Near-infrared, and RE: Red-edge.\n"
      ],
      "metadata": {
        "id": "DqMvnr5tTQ0-"
      }
    },
    {
      "cell_type": "code",
      "source": [
        "from IPython import display\n",
        "display.Image(\"https://www.gim-international.com/cache/1/d/a/c/6/1dac666728a9f8d07521a0094ff1dea58187ffa6.png\", embed=True)"
      ],
      "metadata": {
        "id": "FTVvZ5tbW_49"
      },
      "execution_count": null,
      "outputs": []
    },
    {
      "cell_type": "markdown",
      "source": [
        "Using simply numpy arithmatic operations, we can flatten multispectral imagery into single-band multispectral index image. We can also easily compare multiple images.\n",
        "\n",
        "In the following tasks, you will use numpy commands to do the following:\n",
        "\n",
        "1. Calculate NDVI before and after the fire\n",
        "2. Take the difference in NDVI before and after the fire.\n",
        "3. Plot the change in NDVI caused by the fire"
      ],
      "metadata": {
        "id": "B8kmpV_NYcE0"
      }
    },
    {
      "cell_type": "markdown",
      "metadata": {
        "id": "2EUYiQviSwPH"
      },
      "source": [
        "### TASK 11: Calculate NDVI \n",
        "The normalized difference vegetation index is a metric of vegetation health calculated from the red and near infared bands of multispectral imagery.\n",
        "\n",
        "```\n",
        "NDVI = (NIR – Red) / (NIR + Red)\n",
        "```\n",
        "\n",
        "In the NAIP imagery, band 0 is the red band, and band 3 is the near infra-red band.\n",
        "\n",
        "Create a new raster called NDVI_pre that calculates the NDVI in the pre-fire image. Make a plot of NDVI_pre."
      ]
    },
    {
      "cell_type": "code",
      "execution_count": null,
      "metadata": {
        "id": "DiF44DykSwPH"
      },
      "outputs": [],
      "source": [
        "red_pre_fire=naip_pre_fire[0]\n",
        "NIR_pre_fire=naip_pre_fire[3]\n",
        "\n",
        "# Task 11: create NDVI_pre\n"
      ]
    },
    {
      "cell_type": "code",
      "execution_count": null,
      "metadata": {
        "id": "3g3nxNwwSwPH"
      },
      "outputs": [],
      "source": [
        "#Task 11: plot NDVI_pre\n"
      ]
    },
    {
      "cell_type": "markdown",
      "source": [],
      "metadata": {
        "id": "ipfeE8mPStEu"
      }
    },
    {
      "cell_type": "markdown",
      "metadata": {
        "id": "b4CvWugISwPH"
      },
      "source": [
        "### TASK 11: Plot post-fire data\n",
        "In the code below, you see a path to a NAIP imagery of the region in Colorado that was collected after the fire in Colorado. Use that path to:\n",
        "\n",
        "1. Open the post fire data\n",
        "2. Plot a color version of data using plot_rgb()\n",
        "\n",
        "\n"
      ]
    },
    {
      "cell_type": "code",
      "execution_count": null,
      "metadata": {
        "id": "SPDeTTiISwPH"
      },
      "outputs": [],
      "source": [
        "# Add the code here to open the raster and read the numpy array inside it\n",
        "# Create a path for the data file - notice it is a .tif file\n",
        "naip_post_fire_path = os.path.join(\"earthpy-downloads\",\n",
        "                                   \"naip-before-after\",\n",
        "                                   \"post-fire\",\n",
        "                                   \"crop\",\n",
        "                                   \"m_3910505_nw_13_1_20170902_crop.tif\")\n",
        "\n",
        "# Task 11: open naip_post_fire\n",
        "\n",
        "\n",
        "# Task 11: plot naip_post_fire\n"
      ]
    },
    {
      "cell_type": "markdown",
      "metadata": {
        "id": "QkgrMTj1SwPI"
      },
      "source": [
        "### TASK 12: Fire kills vegetation. Make a map showing fire damage by comparing NDVI_pre fire with an NDVI_post fire:\n",
        "1. Calculate NDVI post-fire (NDVI_post)\n",
        "2. Take the difference of NDVI_pre and NDVI_post"
      ]
    },
    {
      "cell_type": "code",
      "execution_count": null,
      "metadata": {
        "id": "pDHP9PIcSwPI"
      },
      "outputs": [],
      "source": [
        "# Task 11: create NDVI_post\n",
        "\n",
        "# Task 11: map change in NDVI\n"
      ]
    },
    {
      "cell_type": "markdown",
      "source": [
        "#EXTRA CREDIT: CALCULATE TOTAL BURNED AREA.\n",
        "1. Plot a histogram of change in NDVI. \n",
        "2. Use this histogram to set a threshold of values representing fire-impacted pixels.\n",
        "3. Create a mask for fire-imapacted regions (burned area = 1, all other values are no-data. \n",
        "4. Interpreting the Affine of the NAIP imagery, what was the total area imacted by the forest fire?"
      ],
      "metadata": {
        "id": "liPQTRaTjk7-"
      }
    }
  ],
  "metadata": {
    "kernelspec": {
      "display_name": "geostats_env",
      "language": "python",
      "name": "geostats_env"
    },
    "language_info": {
      "codemirror_mode": {
        "name": "ipython",
        "version": 3
      },
      "file_extension": ".py",
      "mimetype": "text/x-python",
      "name": "python",
      "nbconvert_exporter": "python",
      "pygments_lexer": "ipython3",
      "version": "3.8.13"
    },
    "colab": {
      "provenance": []
    }
  },
  "nbformat": 4,
  "nbformat_minor": 0
}